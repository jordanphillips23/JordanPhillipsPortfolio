{
 "cells": [
  {
   "cell_type": "code",
   "execution_count": 12,
   "metadata": {},
   "outputs": [],
   "source": [
    "import pandas as pd\n",
    "import math\n",
    "from nltk.corpus import stopwords\n",
    "import re\n",
    "set(stopwords.words('english'))\n",
    "    \n",
    "\n",
    "stop_words = set(stopwords.words('english')) \n",
    "    \n",
    "def clean(string):\n",
    "    regex = re.compile('[^a-zA-Z]')\n",
    "    data = regex.sub(' ', string)\n",
    "    arr = data.split(\" \")\n",
    "    cleanedArr = [w for w in arr if not w in stop_words] \n",
    "    return \" \".join(cleanedArr);\n",
    "    \n",
    "    \n",
    "    \n",
    "dat = pd.read_json('full_format_recipes.json')\n",
    "cols = dat[[\"title\"]]\n",
    "length = len(dat[\"categories\"])\n",
    "cleaned = []\n",
    "for i in range(length):\n",
    "    out = \"\"\n",
    "    for colName in cols:\n",
    "        if (type(cols[colName][i]) == type(0.0)):\n",
    "            out = \"\"\n",
    "            break;\n",
    "        if (colName != \"title\"):\n",
    "            out = out + \" \" + \" \".join(cols[colName][i])\n",
    "        else:\n",
    "            out = clean(cols[colName][i])\n",
    "    if (out != \"\"):\n",
    "        cleaned.append(out)\n",
    "cleanDat = pd.DataFrame(cleaned)\n",
    "cleanDat.to_csv(\"cleaned_data.csv\")"
   ]
  },
  {
   "cell_type": "code",
   "execution_count": 32,
   "metadata": {},
   "outputs": [
    {
     "name": "stdout",
     "output_type": "stream",
     "text": [
      "[' Sandwich Bean Fruit Tomato turkey Vegetable Kid-Friendly Apple Lentil Lettuce Cookie Lentil, Apple, and Turkey Wrap  1. Place the stock, lentils, celery, carrot, thyme, and salt in a medium saucepan and bring to a boil. Reduce heat to low and simmer until the lentils are tender, about 30 minutes, depending on the lentils. (If they begin to dry out, add water as needed.) Remove and discard the thyme. Drain and transfer the mixture to a bowl; let cool. 2. Fold in the tomato, apple, lemon juice, and olive oil. Season with the pepper. 3. To assemble a wrap, place 1 lavash sheet on a clean work surface. Spread some of the lentil mixture on the end nearest you, leaving a 1-inch border. Top with several slices of turkey, then some of the lettuce. Roll up the lavash, slice crosswise, and serve. If using tortillas, spread the lentils in the center, top with the turkey and lettuce, and fold up the bottom, left side, and right side before rolling away from you. 4 cups low-sodium vegetable or chicken stock 1 cup dried brown lentils 1/2 cup dried French green lentils 2 stalks celery, chopped 1 large carrot, peeled and chopped 1 sprig fresh thyme 1 teaspoon kosher salt 1 medium tomato, cored, seeded, and diced 1 small Fuji apple, cored and diced 1 tablespoon freshly squeezed lemon juice 2 teaspoons extra-virgin olive oil Freshly ground black pepper to taste 3 sheets whole-wheat lavash, cut in half crosswise, or 6 (12-inch) flour tortillas 3/4 pound turkey breast, thinly sliced 1/2 head Bibb lettuce', \" Food Processor Onion Pork Bake Bastille Day New Year's Eve Dried Fruit Port Winter Chill Bon Appétit Boudin Blanc Terrine with Red Onion Confit  Combine first 9 ingredients in heavy medium saucepan. Add 3 shallots. Bring to simmer. Remove from heat, cover and let stand 30 minutes. Chill overnight. Preheat oven to 325°F. Line 7-cup pâté or bread pan with plastic wrap. Melt butter in heavy small skillet over low heat. Add remaining 5 shallots. Cover and cook until very soft, stirring occasionally, about 15 minutes. Transfer to processor. Add pork, eggs, flour and Port and puree. Strain cream mixture, pressing on solids to extract as much liquid as possible. With processor running, add cream through feed tube and process just until combined with pork. Transfer to large bowl. Mix in currants. Spoon mixture into prepared pan. Cover with foil. Place pan in large pan. Add boiling water to larger pan to within 1/2 inch of top of terrine. Bake until terrine begins to shrink from sides of pan and knife inserted into center comes out clean, about 1 1/2 hours. Uncover and cool on rack. Chill until cold. (Can be made 3 days ahead. Cover and chill.) Line platter with lettuce. Arrange terrine atop. Sprinkle with pepper and parsley. Garnish with bay leaves. Spoon confit around sides. Serve with bread. Heat oil in heavy large skillet over medium-high heat. Add onions and sauté until crisp-tender, about 8 minutes. Add all remaining ingredients and stir until reduced to thick glaze, about 4 minutes. Season with salt and pepper. (Can be prepared 2 days ahead. Cover and chill.) Serve warm or at room temperature. 1 1/2 cups whipping cream 2 medium onions, chopped 5 teaspoons salt 3 bay leaves 3 whole cloves 1 large garlic clove, crushed 1 teaspoon pepper 1/8 teaspoon ground nutmeg Pinch of dried thyme, crumbled 8 large shallots, minced 1 tablespoon butter 1 pound trimmed boneless center pork loin, sinew removed cut into 1-inch chunks, well chilled 3 eggs 6 tablespoon all purpose flour 1/4 cup tawny Port 3 tablespoons dried currants, minced Lettuce leaves Cracked peppercorns Minced fresh parsley Bay leaves French bread baguette slices 3 tablespoons olive oil 2 large red onions, halved, sliced 3 tablespoons dried currants 3 tablespoons red wine vinegar 1 tablespoons canned chicken broth 2 teaspoons chopped fresh thyme or 3/4 teaspoon dried, crumbled 1/2 teaspoon sugar\"]\n"
     ]
    }
   ],
   "source": []
  },
  {
   "cell_type": "code",
   "execution_count": null,
   "metadata": {},
   "outputs": [],
   "source": []
  }
 ],
 "metadata": {
  "kernelspec": {
   "display_name": "Python 3",
   "language": "python",
   "name": "python3"
  },
  "language_info": {
   "codemirror_mode": {
    "name": "ipython",
    "version": 3
   },
   "file_extension": ".py",
   "mimetype": "text/x-python",
   "name": "python",
   "nbconvert_exporter": "python",
   "pygments_lexer": "ipython3",
   "version": "3.7.3"
  }
 },
 "nbformat": 4,
 "nbformat_minor": 2
}
