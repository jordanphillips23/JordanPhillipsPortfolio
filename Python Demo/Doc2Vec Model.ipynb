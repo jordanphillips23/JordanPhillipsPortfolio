{
 "cells": [
  {
   "cell_type": "code",
   "execution_count": null,
   "metadata": {
    "scrolled": false
   },
   "outputs": [
    {
     "name": "stdout",
     "output_type": "stream",
     "text": [
      "0\n",
      "1\n",
      "2\n",
      "3\n",
      "4\n",
      "5\n",
      "6\n"
     ]
    }
   ],
   "source": [
    "from gensim.models.doc2vec import Doc2Vec, TaggedDocument\n",
    "import gensim\n",
    "from nltk.tokenize import word_tokenize\n",
    "import pandas as pd\n",
    "\n",
    "documents = pd.read_csv(\"cleaned_data.csv\")[\"0\"]\n",
    "\n",
    "tagged_data = [TaggedDocument(words=word_tokenize(_d.lower()), tags=[str(i)]) for i, _d in enumerate(documents)]\n",
    "\n",
    "\n",
    "\n",
    "epochs = 20\n",
    "vec_size = 10\n",
    "alpha = 0.025\n",
    "\n",
    "model = Doc2Vec(vector_size=30, dm = 1, alpha = alpha, min_alpha=0.00025, workers = 8, min_count = 5, window = 5)\n",
    "model.build_vocab(tagged_data)\n",
    "\n",
    "for i in range(epochs):\n",
    "    print(i);\n",
    "    model.train(tagged_data, total_examples=model.corpus_count, epochs = model.epochs)\n",
    "    model.alpha -= 0.0002\n",
    "    model.min_alpha = model.alpha\n",
    "model.save(\"model2.model\")\n",
    "\n",
    "\n"
   ]
  },
  {
   "cell_type": "code",
   "execution_count": null,
   "metadata": {},
   "outputs": [],
   "source": [
    "model.save(\"model1.model\")"
   ]
  },
  {
   "cell_type": "markdown",
   "metadata": {},
   "source": [
    "model.save(open(\"model1\"))"
   ]
  },
  {
   "cell_type": "code",
   "execution_count": 24,
   "metadata": {},
   "outputs": [
    {
     "name": "stdout",
     "output_type": "stream",
     "text": [""
     ]
    }
   ],
   "source": [
    "\n",
    "similar_doc = model.docvecs.most_similar([model.infer_vector(\"Healthy Salad\".split(\" \"), epochs=50)])\n",
    "print(similar_doc)\n",
    "for result in similar_doc:\n",
    "   \n",
    "    print(documents[int(result[0])])"
   ]
  },
  {
   "cell_type": "markdown",
   "metadata": {},
   "source": []
  },
  {
   "cell_type": "code",
   "execution_count": null,
   "metadata": {},
   "outputs": [],
   "source": []
  }
 ],
 "metadata": {
  "kernelspec": {
   "display_name": "Python 3",
   "language": "python",
   "name": "python3"
  },
  "language_info": {
   "codemirror_mode": {
    "name": "ipython",
    "version": 3
   },
   "file_extension": ".py",
   "mimetype": "text/x-python",
   "name": "python",
   "nbconvert_exporter": "python",
   "pygments_lexer": "ipython3",
   "version": "3.7.3"
  }
 },
 "nbformat": 4,
 "nbformat_minor": 2
}
